{
 "metadata": {
  "name": "",
  "signature": "sha256:63ae746508ad5073ee3ded75668961b7fed2fae264f5356d0d060b5bd3ef4fbf"
 },
 "nbformat": 3,
 "nbformat_minor": 0,
 "worksheets": [
  {
   "cells": [
    {
     "cell_type": "markdown",
     "metadata": {},
     "source": [
      "Here, I'm taking some data which was manually downloaded by an RA and plotting it to examine trends in publication"
     ]
    },
    {
     "cell_type": "code",
     "collapsed": false,
     "input": [
      "import pandas as pd\n",
      "import matplotlib.pyplot as plt\n",
      "import numpy as np\n",
      "\n",
      "%matplotlib inline"
     ],
     "language": "python",
     "metadata": {},
     "outputs": [],
     "prompt_number": 1
    },
    {
     "cell_type": "code",
     "collapsed": false,
     "input": [
      "location = r'/Users/triddle/Documents/riddlet.github.io/_drafts/Travis Psychology Terms.xlsx'\n",
      "\n",
      "df = pd.read_excel(location, 3) #the good stuff is on sheet 4"
     ],
     "language": "python",
     "metadata": {},
     "outputs": [],
     "prompt_number": 3
    },
    {
     "cell_type": "code",
     "collapsed": false,
     "input": [
      "df.rename(columns={'# of RESULTS':'Number of Results'}, inplace=True)"
     ],
     "language": "python",
     "metadata": {},
     "outputs": [],
     "prompt_number": 4
    },
    {
     "cell_type": "code",
     "collapsed": false,
     "input": [
      "df['Number of Results'].plot(figsize=(15,5));"
     ],
     "language": "python",
     "metadata": {},
     "outputs": [
      {
       "metadata": {},
       "output_type": "display_data",
       "png": "[encoded data removed]",
       "text": [
        "<matplotlib.figure.Figure at 0x114b7efd0>"
       ]
      }
     ],
     "prompt_number": 5
    },
    {
     "cell_type": "markdown",
     "metadata": {},
     "source": [
      "The cell below selects the rows which indicate the total number of results for each year.  This is then stored in a dictionary for use to figure out proportions."
     ]
    },
    {
     "cell_type": "code",
     "collapsed": false,
     "input": [
      "year_totals=df[df['TERM'] == 'Total #'].loc[:,['YEAR', 'Number of Results']]\n",
      "years = year_totals['YEAR']\n",
      "results = year_totals['Number of Results']\n",
      "year_dict = dict(zip(years, results))"
     ],
     "language": "python",
     "metadata": {},
     "outputs": [
      {
       "metadata": {},
       "output_type": "pyout",
       "prompt_number": 64,
       "text": [
        "{1868: 47,\n",
        " 1870: 44,\n",
        " 1872: 35,\n",
        " 1874: 39,\n",
        " 1875: 38,\n",
        " 1876: 40,\n",
        " 1877: 37,\n",
        " 1878: 42,\n",
        " 1879: 40,\n",
        " 1880: 44,\n",
        " 1881: 60,\n",
        " 1882: 52,\n",
        " 1883: 33,\n",
        " 1884: 41,\n",
        " 1885: 42,\n",
        " 1886: 70,\n",
        " 1887: 99,\n",
        " 1888: 90,\n",
        " 1889: 109,\n",
        " 1890: 102,\n",
        " 1891: 98,\n",
        " 1892: 144,\n",
        " 1893: 67,\n",
        " 1894: 140,\n",
        " 1895: 192,\n",
        " 1896: 187,\n",
        " 1897: 142,\n",
        " 1898: 182,\n",
        " 1899: 192,\n",
        " 1900: 159,\n",
        " 1901: 164,\n",
        " 1902: 177,\n",
        " 1903: 155,\n",
        " 1904: 172,\n",
        " 1905: 189,\n",
        " 1906: 186,\n",
        " 1907: 174,\n",
        " 1908: 247,\n",
        " 1909: 245,\n",
        " 1910: 292,\n",
        " 1911: 308,\n",
        " 1912: 338,\n",
        " 1913: 356,\n",
        " 1914: 312,\n",
        " 1915: 287,\n",
        " 1916: 322,\n",
        " 1917: 338,\n",
        " 1918: 324,\n",
        " 1919: 343,\n",
        " 1920: 258,\n",
        " 1921: 285,\n",
        " 1922: 372,\n",
        " 1923: 352,\n",
        " 1924: 343,\n",
        " 1925: 433,\n",
        " 1926: 394,\n",
        " 1927: 406,\n",
        " 1928: 450,\n",
        " 1929: 453,\n",
        " 1930: 469,\n",
        " 1931: 447,\n",
        " 1932: 446,\n",
        " 1933: 480,\n",
        " 1934: 462,\n",
        " 1935: 384,\n",
        " 1936: 477,\n",
        " 1937: 407,\n",
        " 1938: 475,\n",
        " 1939: 449,\n",
        " 1940: 613,\n",
        " 1941: 481,\n",
        " 1942: 420,\n",
        " 1943: 391,\n",
        " 1944: 338,\n",
        " 1945: 368,\n",
        " 1946: 665,\n",
        " 1947: 656,\n",
        " 1948: 710,\n",
        " 1949: 1016,\n",
        " 1950: 1314,\n",
        " 1951: 1457,\n",
        " 1952: 1669,\n",
        " 1953: 1702,\n",
        " 1954: 1800,\n",
        " 1955: 1725,\n",
        " 1956: 1739,\n",
        " 1957: 1874,\n",
        " 1958: 1955,\n",
        " 1959: 1809,\n",
        " 1960: 1890,\n",
        " 1961: 2523,\n",
        " 1962: 2407,\n",
        " 1963: 2897,\n",
        " 1964: 3687,\n",
        " 1965: 4525,\n",
        " 1966: 4275,\n",
        " 1967: 4839,\n",
        " 1968: 5363,\n",
        " 1969: 4827,\n",
        " 1970: 5508,\n",
        " 1971: 5873,\n",
        " 1972: 6238,\n",
        " 1973: 7481,\n",
        " 1974: 8135,\n",
        " 1975: 8400,\n",
        " 1976: 9155,\n",
        " 1977: 9346,\n",
        " 1978: 10237,\n",
        " 1979: 10623,\n",
        " 1980: 10336,\n",
        " 1981: 10564,\n",
        " 1982: 10910,\n",
        " 1983: 11159,\n",
        " 1984: 11714,\n",
        " 1985: 11987,\n",
        " 1986: 12324,\n",
        " 1987: 12293,\n",
        " 1988: 13468,\n",
        " 1989: 14231,\n",
        " 1990: 15473,\n",
        " 1991: 15156,\n",
        " 1992: 15434,\n",
        " 1993: 15732,\n",
        " 1994: 16701,\n",
        " 1995: 17308,\n",
        " 1996: 24882,\n",
        " 1997: 24599,\n",
        " 1998: 24154,\n",
        " 1999: 25853,\n",
        " 2000: 26984,\n",
        " 2001: 27919,\n",
        " 2002: 28924,\n",
        " 2003: 30206,\n",
        " 2004: 32226,\n",
        " 2005: 33470,\n",
        " 2006: 36555,\n",
        " 2007: 38900,\n",
        " 2008: 43180,\n",
        " 2009: 44414,\n",
        " 2010: 49070,\n",
        " 2011: 53716,\n",
        " 2012: 54990,\n",
        " 2013: 57556}"
       ]
      }
     ],
     "prompt_number": 64
    },
    {
     "cell_type": "markdown",
     "metadata": {},
     "source": [
      "The cell below creates a new dataframe called year_props.  The first line creates a df in which year and term are grouped together and each entry has an associated number of results.  The second line takes that dataframe and computes the proportion for each grouping (i.e. the proportion of all hits that term takes up in that year)."
     ]
    },
    {
     "cell_type": "code",
     "collapsed": false,
     "input": [
      "year_term = df.groupby(['YEAR', 'TERM']).agg({'Number of Results': 'max'})\n",
      "year_props = year_term.groupby(level=0).apply(lambda x: x/float(x.max()))\n",
      "df_sorted = df.sort(['YEAR', 'TERM'], ascending=[1,1])\n",
      "terms = []\n",
      "for i in year_props.index.values[:]:\n",
      "    terms.append(i[1])\n",
      "\n",
      "year_props['TERM'] = terms\n",
      "year_props.head()"
     ],
     "language": "python",
     "metadata": {},
     "outputs": [
      {
       "html": [
        "<div style=\"max-height:1000px;max-width:1500px;overflow:auto;\">\n",
        "<table border=\"1\" class=\"dataframe\">\n",
        "  <thead>\n",
        "    <tr style=\"text-align: right;\">\n",
        "      <th></th>\n",
        "      <th></th>\n",
        "      <th>Number of Results</th>\n",
        "      <th>TERM</th>\n",
        "    </tr>\n",
        "    <tr>\n",
        "      <th>YEAR</th>\n",
        "      <th>TERM</th>\n",
        "      <th></th>\n",
        "      <th></th>\n",
        "    </tr>\n",
        "  </thead>\n",
        "  <tbody>\n",
        "    <tr>\n",
        "      <th>1868</th>\n",
        "      <th>Total #</th>\n",
        "      <td> 1</td>\n",
        "      <td> Total #</td>\n",
        "    </tr>\n",
        "    <tr>\n",
        "      <th>1870</th>\n",
        "      <th>Total #</th>\n",
        "      <td> 1</td>\n",
        "      <td> Total #</td>\n",
        "    </tr>\n",
        "    <tr>\n",
        "      <th>1872</th>\n",
        "      <th>Total #</th>\n",
        "      <td> 1</td>\n",
        "      <td> Total #</td>\n",
        "    </tr>\n",
        "    <tr>\n",
        "      <th>1874</th>\n",
        "      <th>Total #</th>\n",
        "      <td> 1</td>\n",
        "      <td> Total #</td>\n",
        "    </tr>\n",
        "    <tr>\n",
        "      <th>1875</th>\n",
        "      <th>Total #</th>\n",
        "      <td> 1</td>\n",
        "      <td> Total #</td>\n",
        "    </tr>\n",
        "  </tbody>\n",
        "</table>\n",
        "</div>"
       ],
       "metadata": {},
       "output_type": "pyout",
       "prompt_number": 209,
       "text": [
        "              Number of Results     TERM\n",
        "YEAR TERM                               \n",
        "1868 Total #                  1  Total #\n",
        "1870 Total #                  1  Total #\n",
        "1872 Total #                  1  Total #\n",
        "1874 Total #                  1  Total #\n",
        "1875 Total #                  1  Total #"
       ]
      }
     ],
     "prompt_number": 209
    },
    {
     "cell_type": "code",
     "collapsed": false,
     "input": [
      "year_props['Number of Results']"
     ],
     "language": "python",
     "metadata": {},
     "outputs": [
      {
       "metadata": {},
       "output_type": "pyout",
       "prompt_number": 127,
       "text": [
        "YEAR  TERM   \n",
        "1868  Total #    1.000\n",
        "1870  Total #    1.000\n",
        "1872  Total #    1.000\n",
        "1874  Total #    1.000\n",
        "1875  Total #    1.000\n",
        "1876  Lie*       0.025\n",
        "      Total #    1.000\n",
        "1877  Total #    1.000\n",
        "1878  Total #    1.000\n",
        "1879  Total #    1.000\n",
        "1880  Total #    1.000\n",
        "1881  Total #    1.000\n",
        "1882  Total #    1.000\n",
        "1883  Total #    1.000\n",
        "1884  Total #    1.000\n",
        "...\n",
        "2013  Attitude OR Belief         0.260077\n",
        "      Cheat*                     0.006585\n",
        "      Cultur*                    0.279189\n",
        "      Deceit*                    0.002745\n",
        "      Deception                  0.013326\n",
        "      Dishonest*                 0.002763\n",
        "      Group*                     0.447321\n",
        "      Honest OR Honesty          0.006498\n",
        "      Influence OR Persuasion    0.369883\n",
        "      Lie*                       0.111735\n",
        "      Lying                      0.003718\n",
        "      Moral*                     0.077594\n",
        "      Self*                      0.468969\n",
        "      Social*                    0.642835\n",
        "      Total #                    1.000000\n",
        "Name: Number of Results, Length: 1623, dtype: float64"
       ]
      }
     ],
     "prompt_number": 127
    },
    {
     "cell_type": "code",
     "collapsed": false,
     "input": [],
     "language": "python",
     "metadata": {},
     "outputs": [
      {
       "ename": "KeyError",
       "evalue": "\"['1868' 'Aggressi*'] not in index\"",
       "output_type": "pyerr",
       "traceback": [
        "\u001b[0;31m---------------------------------------------------------------------------\u001b[0m\n\u001b[0;31mKeyError\u001b[0m                                  Traceback (most recent call last)",
        "\u001b[0;32m<ipython-input-185-1768b24ba7cd>\u001b[0m in \u001b[0;36m<module>\u001b[0;34m()\u001b[0m\n\u001b[0;32m----> 1\u001b[0;31m \u001b[0myear_props\u001b[0m\u001b[0;34m[\u001b[0m\u001b[0;34m[\u001b[0m\u001b[0;34m'1868'\u001b[0m\u001b[0;34m,\u001b[0m \u001b[0;34m'Aggressi*'\u001b[0m\u001b[0;34m]\u001b[0m\u001b[0;34m]\u001b[0m\u001b[0;34m.\u001b[0m\u001b[0mhead\u001b[0m\u001b[0;34m(\u001b[0m\u001b[0;34m)\u001b[0m\u001b[0;34m\u001b[0m\u001b[0m\n\u001b[0m",
        "\u001b[0;32m/usr/local/lib/python2.7/site-packages/pandas/core/frame.pyc\u001b[0m in \u001b[0;36m__getitem__\u001b[0;34m(self, key)\u001b[0m\n\u001b[1;32m   1670\u001b[0m         \u001b[0;32mif\u001b[0m \u001b[0misinstance\u001b[0m\u001b[0;34m(\u001b[0m\u001b[0mkey\u001b[0m\u001b[0;34m,\u001b[0m \u001b[0;34m(\u001b[0m\u001b[0mSeries\u001b[0m\u001b[0;34m,\u001b[0m \u001b[0mnp\u001b[0m\u001b[0;34m.\u001b[0m\u001b[0mndarray\u001b[0m\u001b[0;34m,\u001b[0m \u001b[0mlist\u001b[0m\u001b[0;34m)\u001b[0m\u001b[0;34m)\u001b[0m\u001b[0;34m:\u001b[0m\u001b[0;34m\u001b[0m\u001b[0m\n\u001b[1;32m   1671\u001b[0m             \u001b[0;31m# either boolean or fancy integer index\u001b[0m\u001b[0;34m\u001b[0m\u001b[0;34m\u001b[0m\u001b[0m\n\u001b[0;32m-> 1672\u001b[0;31m             \u001b[0;32mreturn\u001b[0m \u001b[0mself\u001b[0m\u001b[0;34m.\u001b[0m\u001b[0m_getitem_array\u001b[0m\u001b[0;34m(\u001b[0m\u001b[0mkey\u001b[0m\u001b[0;34m)\u001b[0m\u001b[0;34m\u001b[0m\u001b[0m\n\u001b[0m\u001b[1;32m   1673\u001b[0m         \u001b[0;32melif\u001b[0m \u001b[0misinstance\u001b[0m\u001b[0;34m(\u001b[0m\u001b[0mkey\u001b[0m\u001b[0;34m,\u001b[0m \u001b[0mDataFrame\u001b[0m\u001b[0;34m)\u001b[0m\u001b[0;34m:\u001b[0m\u001b[0;34m\u001b[0m\u001b[0m\n\u001b[1;32m   1674\u001b[0m             \u001b[0;32mreturn\u001b[0m \u001b[0mself\u001b[0m\u001b[0;34m.\u001b[0m\u001b[0m_getitem_frame\u001b[0m\u001b[0;34m(\u001b[0m\u001b[0mkey\u001b[0m\u001b[0;34m)\u001b[0m\u001b[0;34m\u001b[0m\u001b[0m\n",
        "\u001b[0;32m/usr/local/lib/python2.7/site-packages/pandas/core/frame.pyc\u001b[0m in \u001b[0;36m_getitem_array\u001b[0;34m(self, key)\u001b[0m\n\u001b[1;32m   1714\u001b[0m             \u001b[0;32mreturn\u001b[0m \u001b[0mself\u001b[0m\u001b[0;34m.\u001b[0m\u001b[0mtake\u001b[0m\u001b[0;34m(\u001b[0m\u001b[0mindexer\u001b[0m\u001b[0;34m,\u001b[0m \u001b[0maxis\u001b[0m\u001b[0;34m=\u001b[0m\u001b[0;36m0\u001b[0m\u001b[0;34m,\u001b[0m \u001b[0mconvert\u001b[0m\u001b[0;34m=\u001b[0m\u001b[0mFalse\u001b[0m\u001b[0;34m)\u001b[0m\u001b[0;34m\u001b[0m\u001b[0m\n\u001b[1;32m   1715\u001b[0m         \u001b[0;32melse\u001b[0m\u001b[0;34m:\u001b[0m\u001b[0;34m\u001b[0m\u001b[0m\n\u001b[0;32m-> 1716\u001b[0;31m             \u001b[0mindexer\u001b[0m \u001b[0;34m=\u001b[0m \u001b[0mself\u001b[0m\u001b[0;34m.\u001b[0m\u001b[0mix\u001b[0m\u001b[0;34m.\u001b[0m\u001b[0m_convert_to_indexer\u001b[0m\u001b[0;34m(\u001b[0m\u001b[0mkey\u001b[0m\u001b[0;34m,\u001b[0m \u001b[0maxis\u001b[0m\u001b[0;34m=\u001b[0m\u001b[0;36m1\u001b[0m\u001b[0;34m)\u001b[0m\u001b[0;34m\u001b[0m\u001b[0m\n\u001b[0m\u001b[1;32m   1717\u001b[0m             \u001b[0;32mreturn\u001b[0m \u001b[0mself\u001b[0m\u001b[0;34m.\u001b[0m\u001b[0mtake\u001b[0m\u001b[0;34m(\u001b[0m\u001b[0mindexer\u001b[0m\u001b[0;34m,\u001b[0m \u001b[0maxis\u001b[0m\u001b[0;34m=\u001b[0m\u001b[0;36m1\u001b[0m\u001b[0;34m,\u001b[0m \u001b[0mconvert\u001b[0m\u001b[0;34m=\u001b[0m\u001b[0mTrue\u001b[0m\u001b[0;34m)\u001b[0m\u001b[0;34m\u001b[0m\u001b[0m\n\u001b[1;32m   1718\u001b[0m \u001b[0;34m\u001b[0m\u001b[0m\n",
        "\u001b[0;32m/usr/local/lib/python2.7/site-packages/pandas/core/indexing.pyc\u001b[0m in \u001b[0;36m_convert_to_indexer\u001b[0;34m(self, obj, axis, is_setter)\u001b[0m\n\u001b[1;32m   1083\u001b[0m                     \u001b[0;32mif\u001b[0m \u001b[0misinstance\u001b[0m\u001b[0;34m(\u001b[0m\u001b[0mobj\u001b[0m\u001b[0;34m,\u001b[0m \u001b[0mtuple\u001b[0m\u001b[0;34m)\u001b[0m \u001b[0;32mand\u001b[0m \u001b[0mis_setter\u001b[0m\u001b[0;34m:\u001b[0m\u001b[0;34m\u001b[0m\u001b[0m\n\u001b[1;32m   1084\u001b[0m                         \u001b[0;32mreturn\u001b[0m \u001b[0;34m{\u001b[0m\u001b[0;34m'key'\u001b[0m\u001b[0;34m:\u001b[0m \u001b[0mobj\u001b[0m\u001b[0;34m}\u001b[0m\u001b[0;34m\u001b[0m\u001b[0m\n\u001b[0;32m-> 1085\u001b[0;31m                     \u001b[0;32mraise\u001b[0m \u001b[0mKeyError\u001b[0m\u001b[0;34m(\u001b[0m\u001b[0;34m'%s not in index'\u001b[0m \u001b[0;34m%\u001b[0m \u001b[0mobjarr\u001b[0m\u001b[0;34m[\u001b[0m\u001b[0mmask\u001b[0m\u001b[0;34m]\u001b[0m\u001b[0;34m)\u001b[0m\u001b[0;34m\u001b[0m\u001b[0m\n\u001b[0m\u001b[1;32m   1086\u001b[0m \u001b[0;34m\u001b[0m\u001b[0m\n\u001b[1;32m   1087\u001b[0m                 \u001b[0;32mreturn\u001b[0m \u001b[0mindexer\u001b[0m\u001b[0;34m\u001b[0m\u001b[0m\n",
        "\u001b[0;31mKeyError\u001b[0m: \"['1868' 'Aggressi*'] not in index\""
       ]
      }
     ],
     "prompt_number": 185
    },
    {
     "cell_type": "code",
     "collapsed": false,
     "input": [
      "print pd.__version__"
     ],
     "language": "python",
     "metadata": {},
     "outputs": [
      {
       "output_type": "stream",
       "stream": "stdout",
       "text": [
        "0.14.1\n"
       ]
      }
     ],
     "prompt_number": 182
    },
    {
     "cell_type": "code",
     "collapsed": false,
     "input": [],
     "language": "python",
     "metadata": {},
     "outputs": []
    }
   ],
   "metadata": {}
  }
 ]
}