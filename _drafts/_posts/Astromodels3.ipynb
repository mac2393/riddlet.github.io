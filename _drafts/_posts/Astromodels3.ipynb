{
 "metadata": {
  "name": "",
  "signature": "sha256:bafd235113e1960c932311d8dfb3a7ddf91e3e7f583f5c86973e75986175d94f"
 },
 "nbformat": 3,
 "nbformat_minor": 0,
 "worksheets": []
}