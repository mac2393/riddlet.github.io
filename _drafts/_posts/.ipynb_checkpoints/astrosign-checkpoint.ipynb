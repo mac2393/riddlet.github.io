{
 "metadata": {
  "name": "",
  "signature": "sha256:5d9199220387bd9dc48a85dc4de6bdd090e0c9616d3207678d48fececcb9017a"
 },
 "nbformat": 3,
 "nbformat_minor": 0,
 "worksheets": [
  {
   "cells": [
    {
     "cell_type": "markdown",
     "metadata": {},
     "source": [
      "Astrology drives me bananas. I understand why people enjoy it, and why someone might check their horoscope regularly. People do lots of weird things, but there's always some underlying set of psychological explanations for these behaviors. For the astrologically inclined, the idea that the world is governed by the positions of planets and stars is a comforting one. At least, it's a hell of a lot more comforting than the truth - that the world is a pretty chaotic place, and trying to understand it or make specific predictions (about the behaviors of individual agents, for example) is close to impossible.\n",
      "\n",
      "But *actually* buying into it? And actively arguing for their veracity? Come on. \n",
      "\n",
      "Anyway, I wanted to practice doing some web scraping and some very simple modeling of text data. This post is about the former. I thought astrological forecasts, being published daily, would make a great thing to look at. It was a little difficult to find historical astrological forecasts. I guess this shouldn't be surprising. How many horoscope readers really want to go back to last week's horoscope to see if the predictions came true? Probably none.\n",
      "\n",
      "Fortunately, the [New York Post](http://nypost.com/) does something other than make [awesome puns](http://www.mandatory.com/2012/12/03/the-most-ridiculous-new-york-post-headlines-over-the-years/) - they have their horoscopes archived going back to at least December 2013. Even better, they do it with nicely formatted URLs. For example, here's the urls for Aries from 12/01/2013 to 12/05/2013\n",
      "\n",
      "http://nypost.com/horoscope/aries-12-01-2013/  \n",
      "http://nypost.com/horoscope/aries-12-02-2013/  \n",
      "http://nypost.com/horoscope/aries-12-03-2013/  \n",
      "http://nypost.com/horoscope/aries-12-04-2013/  \n",
      "http://nypost.com/horoscope/aries-12-05-2013/  \n",
      "\n",
      "Given those five examples, I'm sure you can guess what the link is for any given horoscope on any date between 12/01/2013 and the present day. Because they're so regularly formatted, that means that it wont be hard to write a little script to go to each webpage and pull out the information we're interested in.\n",
      "\n",
      "There's two other considerations we'll need here. First, if you've spent much time surfing the internet, you know that sometimes pages don't work. You have to refresh for the page to load, or the page is inexplicably removed. If I'm going to automatically grab text from over 6000 individual pages (12 signs * ~1.5 years of horoscopes), I need to build in something to account for the fact that not every page I visit will be a success.\n",
      "\n",
      "Second, once we successfully visit a page, I'm not going to be interested in *all* of it. There's a lot of advertisements and links to other punny articles and buttons to like stuff or subscribe to something and all the glorious, chaotic noise that is the internet. I need some way of wading through this mess and pulling out only the information I want.\n",
      "\n",
      "To solve the former problem, we'll turn to the python module [requests](http://docs.python-requests.org/en/latest/). This module gives us a nice way to ping a webpage and see if it answers back."
     ]
    },
    {
     "cell_type": "code",
     "collapsed": false,
     "input": [
      "import requests\n",
      "url = 'http://nypost.com/horoscope/aries-12-01-2013/'\n",
      "page = requests.get(url)"
     ],
     "language": "python",
     "metadata": {},
     "outputs": [],
     "prompt_number": 5
    },
    {
     "cell_type": "markdown",
     "metadata": {},
     "source": [
      "Now, this new variable, page, has a method that tells us if the page responded appropriately:"
     ]
    },
    {
     "cell_type": "code",
     "collapsed": false,
     "input": [
      "page.ok"
     ],
     "language": "python",
     "metadata": {},
     "outputs": [
      {
       "metadata": {},
       "output_type": "pyout",
       "prompt_number": 6,
       "text": [
        "True"
       ]
      }
     ],
     "prompt_number": 6
    },
    {
     "cell_type": "markdown",
     "metadata": {},
     "source": [
      "If, on the other hand, we try to visit a bad page, we get something slightly different:"
     ]
    },
    {
     "cell_type": "code",
     "collapsed": false,
     "input": [
      "url = 'http://nypost.com/horoscope/aries-12-01-2015/' #doesn't exist because it hasn't happened!\n",
      "page = requests.get(url)\n",
      "page.ok"
     ],
     "language": "python",
     "metadata": {},
     "outputs": [],
     "prompt_number": 8
    },
    {
     "cell_type": "markdown",
     "metadata": {},
     "source": [
      "Great! We've solved the first problem. For the second, we need two things.\n",
      "\n",
      "First, we need to know what part of the webpage we want. Because most of the stuff you see on the internet is composed of rigidly constructed html, this means that we can use that structure to automatically select the information we want. There's two ways I do this - [selector gadget](http://selectorgadget.com/) or using Chrome's developer tools (open chrome - go to View -> Developer -> Developer Tools). If we look at our horoscope pages, we see that the content we're interested in (the text of the horoscope) is contained within an element 'p', which is itself contained within an element 'div' with the label 'entry-content'.\n",
      "\n",
      "Now that we know where our wanted content is, we can use the wonderfully named [beautiful soup](http://www.crummy.com/software/BeautifulSoup/) module to grab the information we want.\n",
      "\n",
      "*Confession: These two things always involve a lot of trial-and-error for me. I'm no expert on this stuff. I just use them as tools to greater ends*"
     ]
    },
    {
     "cell_type": "code",
     "collapsed": false,
     "input": [
      "import urllib2\n",
      "from bs4 import BeautifulSoup\n",
      "url = 'http://nypost.com/horoscope/aries-12-01-2013/'\n",
      "content = urllib2.urlopen(url).read() #Get the actual html content of the webpage\n",
      "soup = BeautifulSoup(content)\n",
      "soup = soup.find('div', 'entry-content')\n",
      "soup = soup.find('p').string\n",
      "print soup"
     ],
     "language": "python",
     "metadata": {},
     "outputs": [
      {
       "output_type": "stream",
       "stream": "stdout",
       "text": [
        "You\u2019re not the sort to play safe and even if you have been a bit more cautious than usual in recent weeks you will more than make up for it over the next few days. Plan your new adventure today and start working on it tomorrow.\n"
       ]
      }
     ],
     "prompt_number": 13
    },
    {
     "cell_type": "markdown",
     "metadata": {},
     "source": [
      "There we are! That's the stuff we wanted! Now we can put all this stuff together to scrape all the data we want. I tried to do this a couple of times, but the tool broke down after a couple of hours, so instead of doing it in a big loop like I pasted below, I did it sign-by-sign over the course of a couple of days.\n",
      "\n",
      "Anyway, here's the whole thing. If you want the compiled data, you can find it [here](). Next time, I'll do some actual work with these data."
     ]
    },
    {
     "cell_type": "code",
     "collapsed": false,
     "input": [
      "from bs4 import BeautifulSoup\n",
      "import urllib2\n",
      "import datetime\n",
      "import pandas as pd\n",
      "import requests\n",
      "import numpy as np\n",
      "import os\n",
      "\n",
      "baseurl = 'http://nypost.com/horoscope/'\n",
      "signs = ['aries', 'taurus', 'gemini', 'cancer', 'leo', 'virgo', 'libra', \n",
      "         'scorpio', 'sagittarius', 'capricorn', 'aquarius', 'pisces']\n",
      "\n",
      "start = pd.datetime(2013, 12, 01)\n",
      "end = datetime.datetime.today()\n",
      "rng = pd.date_range(start, end)\n",
      "\n",
      "scope = []\n",
      "zodiac = []\n",
      "pub_date = []\n",
      "\n",
      "for sign in signs:\n",
      "    print sign\n",
      "    for day in rng:\n",
      "        url = baseurl + sign + '-' + day.strftime('%m-%d-%Y') + '/'\n",
      "        page = requests.get(url)\n",
      "        if not page.ok:\n",
      "            continue\n",
      "        try:\n",
      "            content = urllib2.urlopen(url).read()\n",
      "            soup = BeautifulSoup(content)\n",
      "            soup = soup.find('div', 'entry-content')\n",
      "            soup = soup.find('p').string\n",
      "            scope.append(soup)\n",
      "            zodiac.append(sign)\n",
      "            pub_date.append(day.strftime('%m-%d-%Y'))\n",
      "        except:\n",
      "            scope.append(np.nan)   \n",
      "            zodiac.append(sign)\n",
      "            pub_date.append(day.strftime('%m-%d-%Y'))\n",
      "            \n",
      "df = pd.DataFrame({'horoscope' : scope,\n",
      "                   'zodiac' : zodiac,\n",
      "                   'pub_date' : pub_date})\n",
      "                   \n",
      "df.to_csv('astroscope.csv', sep='|')"
     ],
     "language": "python",
     "metadata": {},
     "outputs": []
    }
   ],
   "metadata": {}
  }
 ]
}