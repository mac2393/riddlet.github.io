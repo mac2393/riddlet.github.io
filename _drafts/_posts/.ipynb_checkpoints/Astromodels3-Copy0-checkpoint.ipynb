{
 "metadata": {
  "name": "",
  "signature": "sha256:d99fe5b4887a8884c483242f9dff56b86b424f107e5d15f592f6154fa4996909"
 },
 "nbformat": 3,
 "nbformat_minor": 0,
 "worksheets": [
  {
   "cells": [
    {
     "cell_type": "markdown",
     "metadata": {},
     "source": [
      "In some previous posts, I used some data scraped from the New York Posts' astrological horoscopes to demonstrate that the text of a horoscope is a better indicator of the month in which it was written than the astrological sign it was written for. Here are the results from attempting to classify the horoscope texts into their astrological signs:\n"
     ]
    },
    {
     "cell_type": "code",
     "collapsed": false,
     "input": [
      "import pandas as pd\n",
      "from sklearn.feature_extraction.text import CountVectorizer\n",
      "from sklearn.cross_validation import train_test_split\n",
      "from sklearn import svm\n",
      "from sklearn import metrics\n",
      "\n",
      "df = pd.read_csv('../../../data/astrosign.csv', sep='|')\n",
      "df = df.drop('Unnamed: 0', 1)\n",
      "df=df.dropna()\n",
      "df['month'] = df['pub_date'].map(lambda x: str(x)[0:2])\n",
      "\n",
      "cv = CountVectorizer()\n",
      "wordcounts = cv.fit_transform(df['horoscope'])\n",
      "scope_train, scope_test, sign_train, sign_true = \\\n",
      "    train_test_split(wordcounts, \n",
      "                     df['zodiac'], \n",
      "                     test_size=.3, \n",
      "                     random_state=42)\n",
      "\n",
      "clf = svm.LinearSVC()\n",
      "clf.fit(scope_train, sign_train)\n",
      "\n",
      "predicted = clf.predict(scope_test)\n",
      "scores = metrics.classification_report(sign_true, predicted)\n",
      "print scores"
     ],
     "language": "python",
     "metadata": {},
     "outputs": [
      {
       "output_type": "stream",
       "stream": "stdout",
       "text": [
        "             precision    recall  f1-score   support\n",
        "\n",
        "   aquarius       0.09      0.07      0.08       176\n",
        "      aries       0.13      0.14      0.13       138\n",
        "     cancer       0.00      0.00      0.00       173\n",
        "  capricorn       0.07      0.08      0.08       148\n",
        "     gemini       0.00      0.00      0.00       155\n",
        "        leo       0.13      0.10      0.12       163\n",
        "      libra       0.17      0.15      0.16       155\n",
        "     pisces       0.13      0.13      0.13       147\n",
        "sagittarius       0.13      0.13      0.13       145\n",
        "    scorpio       0.18      0.17      0.17       168\n",
        "     taurus       0.00      0.00      0.00       145\n",
        "      virgo       0.10      0.08      0.09       169\n",
        "\n",
        "avg / total       0.09      0.09      0.09      1882\n",
        "\n"
       ]
      }
     ],
     "prompt_number": 4
    },
    {
     "cell_type": "markdown",
     "metadata": {},
     "source": [
      "As we can see, the performance here is not so good. We're essentially performing at chance when examining the performance as a whole.\n",
      "\n",
      "However, when we look at classifying on month, performance is much better:"
     ]
    },
    {
     "cell_type": "code",
     "collapsed": false,
     "input": [],
     "language": "python",
     "metadata": {},
     "outputs": [
      {
       "metadata": {},
       "output_type": "pyout",
       "prompt_number": 3,
       "text": [
        "LinearSVC(C=1.0, class_weight=None, dual=True, fit_intercept=True,\n",
        "     intercept_scaling=1, loss='l2', multi_class='ovr', penalty='l2',\n",
        "     random_state=None, tol=0.0001, verbose=0)"
       ]
      }
     ],
     "prompt_number": 3
    },
    {
     "cell_type": "code",
     "collapsed": false,
     "input": [],
     "language": "python",
     "metadata": {},
     "outputs": [
      {
       "output_type": "stream",
       "stream": "stdout",
       "text": [
        "             precision    recall  f1-score   support\n",
        "\n",
        "         01       0.32      0.33      0.33       203\n",
        "         02       0.35      0.33      0.34       210\n",
        "         03       0.31      0.37      0.34       207\n",
        "         04       0.27      0.33      0.30       190\n",
        "         05       0.28      0.26      0.27       186\n",
        "         06       0.32      0.32      0.32       117\n",
        "         07       0.31      0.21      0.25       126\n",
        "         08       0.24      0.26      0.25       108\n",
        "         09       0.37      0.28      0.32       113\n",
        "         10       0.35      0.30      0.33       102\n",
        "         11       0.32      0.29      0.31       102\n",
        "         12       0.31      0.31      0.31       218\n",
        "\n",
        "avg / total       0.31      0.31      0.31      1882\n",
        "\n"
       ]
      }
     ],
     "prompt_number": 5
    },
    {
     "cell_type": "markdown",
     "metadata": {},
     "source": [
      "HA! We know more about the month of the year than we do about the astrological sign being discussed. Man my job is cool.\n",
      "\n",
      "Just in case you don't remember (or you never looked), here's what this classification would look like if there was no real relationship between the horoscope and the month it was published. We can establish this by just shuffling the labels such that they are randomly paired with horoscopes rather than paired with the one that they truly belong with."
     ]
    },
    {
     "cell_type": "code",
     "collapsed": false,
     "input": [
      "import numpy as np\n",
      "df['shuffled_month'] = np.random.permutation(df.month)\n",
      "df.head()"
     ],
     "language": "python",
     "metadata": {},
     "outputs": [
      {
       "html": [
        "<div style=\"max-height:1000px;max-width:1500px;overflow:auto;\">\n",
        "<table border=\"1\" class=\"dataframe\">\n",
        "  <thead>\n",
        "    <tr style=\"text-align: right;\">\n",
        "      <th></th>\n",
        "      <th>horoscope</th>\n",
        "      <th>pub_date</th>\n",
        "      <th>zodiac</th>\n",
        "      <th>month</th>\n",
        "      <th>shuffled_month</th>\n",
        "    </tr>\n",
        "  </thead>\n",
        "  <tbody>\n",
        "    <tr>\n",
        "      <th>0</th>\n",
        "      <td> What is your fondest dream? What is it you wou...</td>\n",
        "      <td> 12-01-2013</td>\n",
        "      <td> aquarius</td>\n",
        "      <td> 12</td>\n",
        "      <td> 04</td>\n",
        "    </tr>\n",
        "    <tr>\n",
        "      <th>1</th>\n",
        "      <td> Just because something is new-fangled or fashi...</td>\n",
        "      <td> 12-02-2013</td>\n",
        "      <td> aquarius</td>\n",
        "      <td> 12</td>\n",
        "      <td> 05</td>\n",
        "    </tr>\n",
        "    <tr>\n",
        "      <th>2</th>\n",
        "      <td> Some people react well to criticism and some p...</td>\n",
        "      <td> 12-03-2013</td>\n",
        "      <td> aquarius</td>\n",
        "      <td> 12</td>\n",
        "      <td> 12</td>\n",
        "    </tr>\n",
        "    <tr>\n",
        "      <th>3</th>\n",
        "      <td> You are advised not to make any hasty decision...</td>\n",
        "      <td> 12-04-2013</td>\n",
        "      <td> aquarius</td>\n",
        "      <td> 12</td>\n",
        "      <td> 07</td>\n",
        "    </tr>\n",
        "    <tr>\n",
        "      <th>4</th>\n",
        "      <td> Friendships and social activities are under ex...</td>\n",
        "      <td> 12-05-2013</td>\n",
        "      <td> aquarius</td>\n",
        "      <td> 12</td>\n",
        "      <td> 03</td>\n",
        "    </tr>\n",
        "  </tbody>\n",
        "</table>\n",
        "</div>"
       ],
       "metadata": {},
       "output_type": "pyout",
       "prompt_number": 6,
       "text": [
        "                                           horoscope    pub_date    zodiac  \\\n",
        "0  What is your fondest dream? What is it you wou...  12-01-2013  aquarius   \n",
        "1  Just because something is new-fangled or fashi...  12-02-2013  aquarius   \n",
        "2  Some people react well to criticism and some p...  12-03-2013  aquarius   \n",
        "3  You are advised not to make any hasty decision...  12-04-2013  aquarius   \n",
        "4  Friendships and social activities are under ex...  12-05-2013  aquarius   \n",
        "\n",
        "  month shuffled_month  \n",
        "0    12             04  \n",
        "1    12             05  \n",
        "2    12             12  \n",
        "3    12             07  \n",
        "4    12             03  "
       ]
      }
     ],
     "prompt_number": 6
    },
    {
     "cell_type": "code",
     "collapsed": false,
     "input": [
      "scope_train, scope_test, month_train, month_true = \\\n",
      "    train_test_split(wordcounts, \n",
      "                     df['shuffled_month'], \n",
      "                     test_size=.3, \n",
      "                     random_state=42)\n",
      "\n",
      "clf = svm.LinearSVC()\n",
      "clf.fit(scope_train, month_train)\n",
      "predicted = clf.predict(scope_test)\n",
      "scores = metrics.classification_report(month_true, predicted)\n",
      "print scores"
     ],
     "language": "python",
     "metadata": {},
     "outputs": [
      {
       "output_type": "stream",
       "stream": "stdout",
       "text": [
        "             precision    recall  f1-score   support\n",
        "\n",
        "         01       0.13      0.12      0.13       233\n",
        "         02       0.15      0.15      0.15       191\n",
        "         03       0.16      0.15      0.16       237\n",
        "         04       0.08      0.09      0.08       194\n",
        "         05       0.08      0.09      0.09       173\n",
        "         06       0.02      0.03      0.03        96\n",
        "         07       0.03      0.03      0.03       117\n",
        "         08       0.11      0.09      0.10       108\n",
        "         09       0.10      0.08      0.09       123\n",
        "         10       0.04      0.03      0.03        98\n",
        "         11       0.06      0.05      0.05        96\n",
        "         12       0.10      0.12      0.11       216\n",
        "\n",
        "avg / total       0.10      0.10      0.10      1882\n",
        "\n"
       ]
      }
     ],
     "prompt_number": 8
    },
    {
     "cell_type": "markdown",
     "metadata": {},
     "source": [
      "I would say that this pretty convincingly shows that there's more information in the horoscopes that pertains to the month of the year in which it was published than the astrological sign.\n",
      "\n",
      "Just to be complete, let's use a random forest as well, just like we tried in the last post."
     ]
    },
    {
     "cell_type": "code",
     "collapsed": false,
     "input": [
      "from sklearn.ensemble import RandomForestClassifier\n",
      "\n",
      "#the RF classifier doesn't take the sparse numpy array we used before, \n",
      "#so we just have to turn it into a regular array. This doesn't change \n",
      "#the values at all, it just changes the internal representation.\n",
      "wcarray = wordcounts.toarray()\n",
      "\n",
      "scope_train, scope_test, month_train, month_true = \\\n",
      "    train_test_split(wcarray, \n",
      "                     df.month, \n",
      "                     test_size=.3, \n",
      "                     random_state=42)\n",
      "\n",
      "clf = RandomForestClassifier()\n",
      "clf.fit(scope_train, month_train)\n",
      "predicted = clf.predict(scope_test)\n",
      "scores = metrics.classification_report(month_true, predicted)\n",
      "print scores"
     ],
     "language": "python",
     "metadata": {},
     "outputs": [
      {
       "output_type": "stream",
       "stream": "stdout",
       "text": [
        "             precision    recall  f1-score   support\n",
        "\n",
        "         01       0.22      0.47      0.30       203\n",
        "         02       0.28      0.36      0.32       210\n",
        "         03       0.25      0.38      0.30       207\n",
        "         04       0.25      0.32      0.28       190\n",
        "         05       0.26      0.23      0.25       186\n",
        "         06       0.54      0.27      0.36       117\n",
        "         07       0.55      0.21      0.31       126\n",
        "         08       0.48      0.21      0.29       108\n",
        "         09       0.60      0.27      0.37       113\n",
        "         10       0.59      0.25      0.36       102\n",
        "         11       0.46      0.23      0.30       102\n",
        "         12       0.39      0.28      0.33       218\n",
        "\n",
        "avg / total       0.37      0.31      0.31      1882\n",
        "\n"
       ]
      }
     ],
     "prompt_number": 10
    },
    {
     "cell_type": "markdown",
     "metadata": {},
     "source": [
      "A random forest seems to give us a bit better precision in this case, but the f1 score is the same. There's a problem here, however. Unlike when we were using horoscopes, our classes are not roughly equivalent in terms of the number of instances. Specifically, there are fewer cases for the months of June through November. This could be (and almost certainly is) biasing our learner and is an important factor to consider when fitting these kinds of models."
     ]
    },
    {
     "cell_type": "code",
     "collapsed": false,
     "input": [],
     "language": "python",
     "metadata": {},
     "outputs": []
    }
   ],
   "metadata": {}
  }
 ]
}